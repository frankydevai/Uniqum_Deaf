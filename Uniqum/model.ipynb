{
 "cells": [
  {
   "cell_type": "code",
   "execution_count": 1,
   "outputs": [],
   "source": [
    "import os\n",
    "import csv\n",
    "import tensorflow as tf\n",
    "import numpy as np\n",
    "import pandas as pd\n",
    "\n",
    "from tensorflow.keras.preprocessing.image import ImageDataGenerator\n",
    "from tensorflow.keras.layers import Conv2D, MaxPooling2D, Flatten, Dense, Dropout\n",
    "from tensorflow.keras.models import Sequential\n"
   ],
   "metadata": {
    "collapsed": false,
    "pycharm": {
     "name": "#%%\n"
    }
   }
  },
  {
   "cell_type": "code",
   "execution_count": 2,
   "outputs": [
    {
     "name": "stdout",
     "output_type": "stream",
     "text": [
      "Found 249 images belonging to 29 classes.\n",
      "Found 46 images belonging to 29 classes.\n",
      "Found 63 images belonging to 29 classes.\n"
     ]
    }
   ],
   "source": [
    "# Step 2: Prepare data\n",
    "# Set up image generators for data augmentation\n",
    "train_datagen = ImageDataGenerator(\n",
    "    rescale=1./255,\n",
    "    rotation_range=10,\n",
    "    zoom_range=0.1,\n",
    "    width_shift_range=0.1,\n",
    "    height_shift_range=0.1,\n",
    "    horizontal_flip=True,\n",
    "    validation_split=0.2\n",
    ")\n",
    "\n",
    "test_datagen = ImageDataGenerator(rescale=1./255)\n",
    "\n",
    "# Load the data into the generators\n",
    "train_generator = train_datagen.flow_from_directory(\n",
    "    'train',\n",
    "    target_size=(224, 224),\n",
    "    batch_size=32,\n",
    "    class_mode='categorical',\n",
    "    subset='training',\n",
    "    classes=os.listdir('train')\n",
    ")\n",
    "\n",
    "val_generator = train_datagen.flow_from_directory(\n",
    "    'train',\n",
    "    target_size=(224, 224),\n",
    "    batch_size=32,\n",
    "    class_mode='categorical',\n",
    "    subset='validation',\n",
    "    classes=os.listdir('train')\n",
    ")\n",
    "\n",
    "test_generator = test_datagen.flow_from_directory(\n",
    "    'test',\n",
    "    target_size=(224, 224),\n",
    "    batch_size=32,\n",
    "    class_mode='categorical',\n",
    "    classes=os.listdir('train')\n",
    ")\n"
   ],
   "metadata": {
    "collapsed": false,
    "pycharm": {
     "name": "#%%\n"
    }
   }
  },
  {
   "cell_type": "code",
   "execution_count": 3,
   "outputs": [],
   "source": [
    "# Step 3: Define model architecture\n",
    "model = Sequential([\n",
    "    Conv2D(32, (3, 3), activation='relu', input_shape=(224, 224, 3)),\n",
    "    MaxPooling2D((2, 2)),\n",
    "    Conv2D(64, (3, 3), activation='relu'),\n",
    "    MaxPooling2D((2, 2)),\n",
    "    Conv2D(128, (3, 3), activation='relu'),\n",
    "    MaxPooling2D((2, 2)),\n",
    "    Flatten(),\n",
    "    Dense(128, activation='relu'),\n",
    "    Dropout(0.5),\n",
    "    Dense(29, activation='softmax')\n",
    "])\n",
    "\n",
    "# Compile the model\n",
    "model.compile(\n",
    "    optimizer='adam',\n",
    "    loss='categorical_crossentropy',\n",
    "    metrics=['accuracy']\n",
    ")\n",
    "\n"
   ],
   "metadata": {
    "collapsed": false,
    "pycharm": {
     "name": "#%%\n"
    }
   }
  },
  {
   "cell_type": "code",
   "execution_count": 4,
   "outputs": [
    {
     "name": "stdout",
     "output_type": "stream",
     "text": [
      "Epoch 1/25\n",
      "8/8 [==============================] - 15s 2s/step - loss: 4.5858 - accuracy: 0.0241 - val_loss: 3.3518 - val_accuracy: 0.0435\n",
      "Epoch 2/25\n",
      "8/8 [==============================] - 12s 1s/step - loss: 3.3859 - accuracy: 0.0080 - val_loss: 3.3563 - val_accuracy: 0.0435\n",
      "Epoch 3/25\n",
      "8/8 [==============================] - 17s 2s/step - loss: 3.3781 - accuracy: 0.0361 - val_loss: 3.3521 - val_accuracy: 0.0652\n",
      "Epoch 4/25\n",
      "8/8 [==============================] - 17s 2s/step - loss: 3.3667 - accuracy: 0.0522 - val_loss: 3.3492 - val_accuracy: 0.0652\n",
      "Epoch 5/25\n",
      "8/8 [==============================] - 16s 2s/step - loss: 3.3548 - accuracy: 0.0321 - val_loss: 3.3422 - val_accuracy: 0.0652\n",
      "Epoch 6/25\n",
      "8/8 [==============================] - 15s 2s/step - loss: 3.3636 - accuracy: 0.0281 - val_loss: 3.3427 - val_accuracy: 0.0652\n",
      "Epoch 7/25\n",
      "8/8 [==============================] - 16s 2s/step - loss: 3.3719 - accuracy: 0.0482 - val_loss: 3.3639 - val_accuracy: 0.0435\n",
      "Epoch 8/25\n",
      "8/8 [==============================] - 15s 2s/step - loss: 3.3652 - accuracy: 0.0522 - val_loss: 3.3632 - val_accuracy: 0.0435\n",
      "Epoch 9/25\n",
      "8/8 [==============================] - 14s 2s/step - loss: 3.3646 - accuracy: 0.0402 - val_loss: 3.3624 - val_accuracy: 0.0435\n",
      "Epoch 10/25\n",
      "8/8 [==============================] - 14s 2s/step - loss: 3.3638 - accuracy: 0.0522 - val_loss: 3.3615 - val_accuracy: 0.0435\n",
      "Epoch 11/25\n",
      "8/8 [==============================] - 15s 2s/step - loss: 3.3634 - accuracy: 0.0361 - val_loss: 3.3606 - val_accuracy: 0.0435\n",
      "Epoch 12/25\n",
      "8/8 [==============================] - 14s 2s/step - loss: 3.3626 - accuracy: 0.0562 - val_loss: 3.3597 - val_accuracy: 0.0435\n",
      "Epoch 13/25\n",
      "8/8 [==============================] - 15s 2s/step - loss: 3.3630 - accuracy: 0.0482 - val_loss: 3.3589 - val_accuracy: 0.0652\n",
      "Epoch 14/25\n",
      "8/8 [==============================] - 15s 2s/step - loss: 3.3623 - accuracy: 0.0562 - val_loss: 3.3581 - val_accuracy: 0.0435\n",
      "Epoch 15/25\n",
      "8/8 [==============================] - 16s 2s/step - loss: 3.3620 - accuracy: 0.0442 - val_loss: 3.3573 - val_accuracy: 0.0652\n",
      "Epoch 16/25\n",
      "8/8 [==============================] - 16s 2s/step - loss: 3.3610 - accuracy: 0.0522 - val_loss: 3.3567 - val_accuracy: 0.0652\n",
      "Epoch 17/25\n",
      "8/8 [==============================] - 15s 2s/step - loss: 3.3607 - accuracy: 0.0442 - val_loss: 3.3559 - val_accuracy: 0.0652\n",
      "Epoch 18/25\n",
      "8/8 [==============================] - 15s 2s/step - loss: 3.3605 - accuracy: 0.0562 - val_loss: 3.3553 - val_accuracy: 0.0652\n",
      "Epoch 19/25\n",
      "8/8 [==============================] - 15s 2s/step - loss: 3.3596 - accuracy: 0.0442 - val_loss: 3.3545 - val_accuracy: 0.0652\n",
      "Epoch 20/25\n",
      "8/8 [==============================] - 21s 3s/step - loss: 3.3596 - accuracy: 0.0321 - val_loss: 3.3537 - val_accuracy: 0.0652\n",
      "Epoch 21/25\n",
      "8/8 [==============================] - 16s 2s/step - loss: 3.3599 - accuracy: 0.0522 - val_loss: 3.3530 - val_accuracy: 0.0652\n",
      "Epoch 22/25\n",
      "8/8 [==============================] - 17s 2s/step - loss: 3.3587 - accuracy: 0.0522 - val_loss: 3.3523 - val_accuracy: 0.0652\n",
      "Epoch 23/25\n",
      "8/8 [==============================] - 17s 2s/step - loss: 3.3574 - accuracy: 0.0482 - val_loss: 3.3516 - val_accuracy: 0.0652\n",
      "Epoch 24/25\n",
      "8/8 [==============================] - 17s 2s/step - loss: 3.3569 - accuracy: 0.0402 - val_loss: 3.3509 - val_accuracy: 0.0652\n",
      "Epoch 25/25\n",
      "8/8 [==============================] - 13s 2s/step - loss: 3.3589 - accuracy: 0.0402 - val_loss: 3.3502 - val_accuracy: 0.0652\n"
     ]
    }
   ],
   "source": [
    "history = model.fit(\n",
    "    train_generator,\n",
    "    epochs=25,\n",
    "    validation_data=val_generator\n",
    ")"
   ],
   "metadata": {
    "collapsed": false,
    "pycharm": {
     "name": "#%%\n"
    }
   }
  },
  {
   "cell_type": "code",
   "execution_count": 5,
   "outputs": [
    {
     "name": "stdout",
     "output_type": "stream",
     "text": [
      "2/2 - 1s - loss: 3.3553 - accuracy: 0.0476 - 1s/epoch - 629ms/step\n",
      "Test accuracy:  0.0476190485060215\n"
     ]
    }
   ],
   "source": [
    "# Step 5: Test the model\n",
    "test_loss, test_acc = model.evaluate(test_generator, verbose=2)\n",
    "print(\"Test accuracy: \", test_acc)"
   ],
   "metadata": {
    "collapsed": false,
    "pycharm": {
     "name": "#%%\n"
    }
   }
  },
  {
   "cell_type": "code",
   "execution_count": 6,
   "outputs": [],
   "source": [
    "model.save('modelss.h5')"
   ],
   "metadata": {
    "collapsed": false,
    "pycharm": {
     "name": "#%%\n"
    }
   }
  },
  {
   "cell_type": "code",
   "execution_count": null,
   "outputs": [],
   "source": [],
   "metadata": {
    "collapsed": false,
    "pycharm": {
     "name": "#%%\n"
    }
   }
  }
 ],
 "metadata": {
  "kernelspec": {
   "display_name": "Python 3",
   "language": "python",
   "name": "python3"
  },
  "language_info": {
   "codemirror_mode": {
    "name": "ipython",
    "version": 2
   },
   "file_extension": ".py",
   "mimetype": "text/x-python",
   "name": "python",
   "nbconvert_exporter": "python",
   "pygments_lexer": "ipython2",
   "version": "2.7.6"
  }
 },
 "nbformat": 4,
 "nbformat_minor": 0
}