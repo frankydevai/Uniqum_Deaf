{
 "cells": [
  {
   "cell_type": "code",
   "execution_count": null,
   "outputs": [],
   "source": [
    "import cv2\n",
    "import mediapipe as mp\n",
    "import os\n",
    "import numpy as np"
   ],
   "metadata": {
    "collapsed": false,
    "pycharm": {
     "name": "#%%\n"
    }
   }
  },
  {
   "cell_type": "code",
   "execution_count": null,
   "outputs": [],
   "source": [
    "# Initialize MediaPipe Holistic and Hands models\n",
    "mp_holistic = mp.solutions.holistic\n",
    "mp_hands = mp.solutions.hands\n",
    "mp_drawing = mp.solutions.drawing_utils\n",
    "holistic = mp_holistic.Holistic(min_detection_confidence=0.5, min_tracking_confidence=0.5)\n",
    "hands = mp_hands.Hands(static_image_mode=False, max_num_hands=2, min_detection_confidence=0.5, min_tracking_confidence=0.5)\n",
    "\n",
    "video_path = \"C:\\\\Users\\DELL\\Desktop\\Pose_extraction\\\\videos\"\n",
    "output_dir = \"images\"\n"
   ],
   "metadata": {
    "collapsed": false,
    "pycharm": {
     "name": "#%%\n"
    }
   }
  },
  {
   "cell_type": "code",
   "execution_count": null,
   "outputs": [],
   "source": [
    "# Load video file\n",
    "if not os.path.exists(output_dir):\n",
    "    os.makedirs(output_dir)\n",
    "\n",
    "for file_name in sorted(os.listdir(video_path)):\n",
    "\n",
    "    file_path = os.path.join(video_path, file_name)\n",
    "    # Open the video file\n",
    "    cap = cv2.VideoCapture(file_path)\n",
    "\n",
    "\n",
    "    # Define variables for output file names and frame counter\n",
    "    output_prefix = \"pose_frame_\"\n",
    "    output_suffix = \".png\"\n",
    "    frame_num = 0\n",
    "    fps = int(cap.get(cv2.CAP_PROP_FPS))\n",
    "    interval = 0.5 # Save a pose every second\n",
    "    next_frame_save = fps * interval\n",
    "\n",
    "    # Loop over video frames\n",
    "    while cap.isOpened():\n",
    "        # Read a frame from the video\n",
    "        success, frame = cap.read()\n",
    "        if not success:\n",
    "            break\n",
    "\n",
    "        # Convert frame to RGB format\n",
    "        frame_rgb = cv2.cvtColor(frame, cv2.COLOR_BGR2RGB)\n",
    "\n",
    "        # Use MediaPipe Holistic to detect poses in the frame\n",
    "        results_holistic = holistic.process(frame_rgb)\n",
    "\n",
    "        # Use MediaPipe Hands to detect hands in the frame\n",
    "        results_hands = hands.process(frame_rgb)\n",
    "\n",
    "        # Extract pose landmarks from Holistic results\n",
    "        pose_landmarks = results_holistic.pose_landmarks\n",
    "\n",
    "        # Extract hand landmarks from Hands results\n",
    "        hand_landmarks = results_hands.multi_hand_landmarks\n",
    "\n",
    "        # Save pose and hand landmarks as an image file\n",
    "        if frame_num == next_frame_save and pose_landmarks is not None:\n",
    "            # Create white image with same size as video frame\n",
    "            white_img = 255 * np.ones_like(frame)\n",
    "            # Draw pose landmarks on white image\n",
    "            mp_drawing.draw_landmarks(\n",
    "                white_img, pose_landmarks, mp_holistic.POSE_CONNECTIONS)\n",
    "            # Draw hand landmarks on white image\n",
    "            if hand_landmarks:\n",
    "                for hand_lmks in hand_landmarks:\n",
    "                    mp_drawing.draw_landmarks(\n",
    "                        white_img, hand_lmks, mp_hands.HAND_CONNECTIONS)\n",
    "            # Create output file path and name\n",
    "            output_path = os.path.join(\n",
    "                output_dir, f\"{file_name}{frame_num:04d}{output_suffix}\")\n",
    "            # Save the white image as an output file\n",
    "            cv2.imwrite(output_path, white_img)\n",
    "\n",
    "            next_frame_save += fps * interval\n",
    "\n",
    "        # Increment frame counter\n",
    "        frame_num += 1\n",
    "\n",
    "# Clean up\n",
    "cap.release()\n",
    "holistic.close()\n",
    "hands.close()"
   ],
   "metadata": {
    "collapsed": false,
    "pycharm": {
     "name": "#%%\n"
    }
   }
  },
  {
   "cell_type": "code",
   "execution_count": null,
   "outputs": [],
   "source": [],
   "metadata": {
    "collapsed": false,
    "pycharm": {
     "name": "#%%\n"
    }
   }
  }
 ],
 "metadata": {
  "kernelspec": {
   "display_name": "Python 3",
   "language": "python",
   "name": "python3"
  },
  "language_info": {
   "codemirror_mode": {
    "name": "ipython",
    "version": 2
   },
   "file_extension": ".py",
   "mimetype": "text/x-python",
   "name": "python",
   "nbconvert_exporter": "python",
   "pygments_lexer": "ipython2",
   "version": "2.7.6"
  }
 },
 "nbformat": 4,
 "nbformat_minor": 0
}