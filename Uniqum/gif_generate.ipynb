{
 "cells": [
  {
   "cell_type": "code",
   "execution_count": 9,
   "outputs": [],
   "source": [
    "import tensorflow as tf\n",
    "from tensorflow.keras.preprocessing.image import ImageDataGenerator\n",
    "import os\n",
    "import cv2\n",
    "import imageio\n",
    "import numpy as np"
   ],
   "metadata": {
    "collapsed": false,
    "pycharm": {
     "name": "#%%\n"
    }
   }
  },
  {
   "cell_type": "markdown",
   "source": [],
   "metadata": {
    "collapsed": false,
    "pycharm": {
     "name": "#%% md\n"
    }
   }
  },
  {
   "cell_type": "code",
   "execution_count": 27,
   "outputs": [],
   "source": [
    "# Step 1: Load the trained model\n",
    "model = tf.keras.models.load_model('models.h5')\n"
   ],
   "metadata": {
    "collapsed": false,
    "pycharm": {
     "name": "#%%\n"
    }
   }
  },
  {
   "cell_type": "code",
   "execution_count": 27,
   "outputs": [],
   "source": [],
   "metadata": {
    "collapsed": false,
    "pycharm": {
     "name": "#%%\n"
    }
   }
  },
  {
   "cell_type": "code",
   "execution_count": 28,
   "outputs": [],
   "source": [
    "# Step 2: Define a function to get image paths for a given word\n",
    "def get_image_paths(word):\n",
    "    image_dir = 'images'\n",
    "    word_dir = os.path.join(image_dir, word)\n",
    "    image_paths = []\n",
    "    for root, dirs, files in os.walk(word_dir):\n",
    "        for file in files:\n",
    "            if file.endswith('.png'):\n",
    "                image_paths.append(os.path.join(root, file))\n",
    "    return image_paths"
   ],
   "metadata": {
    "collapsed": false,
    "pycharm": {
     "name": "#%%\n"
    }
   }
  },
  {
   "cell_type": "code",
   "execution_count": 29,
   "outputs": [],
   "source": [
    "# Step 3: Set up image generators for data augmentation\n",
    "datagen = ImageDataGenerator(rescale=1./255)"
   ],
   "metadata": {
    "collapsed": false,
    "pycharm": {
     "name": "#%%\n"
    }
   }
  },
  {
   "cell_type": "code",
   "execution_count": 30,
   "outputs": [],
   "source": [
    "# Step 4: Use the model to predict the class of each image\n",
    "def predict_images(model, image_paths):\n",
    "    predictions = []\n",
    "    for path in image_paths:\n",
    "        img = tf.keras.preprocessing.image.load_img(path, target_size=(224, 224))\n",
    "        img_array = tf.keras.preprocessing.image.img_to_array(img)\n",
    "        img_array = tf.expand_dims(img_array, 0)\n",
    "        prediction = model.predict(img_array)\n",
    "        predicted_class = tf.argmax(prediction[0]).numpy()\n",
    "        predictions.append(predicted_class)\n",
    "    return predictions"
   ],
   "metadata": {
    "collapsed": false,
    "pycharm": {
     "name": "#%%\n"
    }
   }
  },
  {
   "cell_type": "code",
   "execution_count": 31,
   "outputs": [],
   "source": [
    "def get_predicted_image_paths(word):\n",
    "    image_paths = get_image_paths(word)\n",
    "    print(f'Number of image_paths: {len(image_paths)}')\n",
    "    predictions = predict_images(model, image_paths)\n",
    "    print(f'Predictions: {predictions}')\n",
    "    predicted_image_paths = []\n",
    "    for i, prediction in enumerate(predictions):\n",
    "        if prediction == 1: # Replace 1 with the class label that corresponds to the word\n",
    "            predicted_image_paths.append(image_paths[i])\n",
    "    print(f'Number of predicted_image_paths: {len(predicted_image_paths)}')\n",
    "    return predicted_image_paths"
   ],
   "metadata": {
    "collapsed": false,
    "pycharm": {
     "name": "#%%\n"
    }
   }
  },
  {
   "cell_type": "code",
   "execution_count": 32,
   "outputs": [],
   "source": [
    "\n"
   ],
   "metadata": {
    "collapsed": false,
    "pycharm": {
     "name": "#%%\n"
    }
   }
  },
  {
   "cell_type": "code",
   "execution_count": 32,
   "outputs": [],
   "source": [],
   "metadata": {
    "collapsed": false,
    "pycharm": {
     "name": "#%%\n"
    }
   }
  },
  {
   "cell_type": "code",
   "execution_count": 54,
   "outputs": [],
   "source": [
    "from PIL import Image\n",
    "import numpy as np\n",
    "import imageio\n",
    "\n",
    "def create_gif(word):\n",
    "    predicted_image_paths = get_predicted_image_paths(word)\n",
    "    images = []\n",
    "    for path in predicted_image_paths:\n",
    "        im = Image.open(path)\n",
    "        if im.size[1] % 16 != 0:\n",
    "            new_height = (im.size[1] // 16 + 1) * 16\n",
    "            im = im.resize((im.size[0], new_height))\n",
    "        images.append(np.array(im))\n",
    "\n",
    "    gif_path = f'gif/{word}.gif'\n",
    "    imageio.mimsave(gif_path, images)\n",
    "\n",
    "    mp4_path = f'gif/{word}.mp4'\n",
    "    with imageio.get_writer(mp4_path, fps=10) as writer:\n",
    "        for im in images:\n",
    "            writer.append_data(im)\n",
    "\n",
    "    return mp4_path"
   ],
   "metadata": {
    "collapsed": false,
    "pycharm": {
     "name": "#%%\n"
    }
   }
  },
  {
   "cell_type": "code",
   "execution_count": 65,
   "outputs": [
    {
     "name": "stdout",
     "output_type": "stream",
     "text": [
      "Number of image_paths: 12\n",
      "1/1 [==============================] - 0s 53ms/step\n",
      "1/1 [==============================] - 0s 57ms/step\n",
      "1/1 [==============================] - 0s 63ms/step\n",
      "1/1 [==============================] - 0s 58ms/step\n",
      "1/1 [==============================] - 0s 58ms/step\n",
      "1/1 [==============================] - 0s 57ms/step\n",
      "1/1 [==============================] - 0s 60ms/step\n",
      "1/1 [==============================] - 0s 55ms/step\n",
      "1/1 [==============================] - 0s 57ms/step\n",
      "1/1 [==============================] - 0s 58ms/step\n",
      "1/1 [==============================] - 0s 58ms/step\n",
      "1/1 [==============================] - 0s 54ms/step\n",
      "Predictions: [1, 1, 1, 1, 1, 1, 1, 1, 1, 1, 1, 1]\n",
      "Number of predicted_image_paths: 12\n"
     ]
    }
   ],
   "source": [
    "# file = input(\"Enter word: \")\n",
    "# create_gif(file)\n",
    "# import cv2\n",
    "#\n",
    "# # create a VideoCapture object\n",
    "# cap = cv2.VideoCapture(f'gif/{file}.mp4')\n",
    "#\n",
    "# # check if video opened successfully\n",
    "# if not cap.isOpened():\n",
    "#     print(\"Error opening video file\")\n",
    "#     exit()\n",
    "#\n",
    "# # read and display each frame of the video\n",
    "# while True:\n",
    "#     ret, frame = cap.read()\n",
    "#     if not ret:\n",
    "#         break\n",
    "#     cv2.imshow('My Video', frame)\n",
    "#     if cv2.waitKey(25) & 0xFF == ord('q'): # press q to quit\n",
    "#         break\n",
    "#\n",
    "# # release the VideoCapture object and close the display window\n",
    "# cap.release()\n",
    "# cv2.destroyAllWindows()\n"
   ],
   "metadata": {
    "collapsed": false,
    "pycharm": {
     "name": "#%%\n"
    }
   }
  },
  {
   "cell_type": "code",
   "execution_count": null,
   "outputs": [],
   "source": [],
   "metadata": {
    "collapsed": false,
    "pycharm": {
     "name": "#%%\n"
    }
   }
  },
  {
   "cell_type": "code",
   "execution_count": null,
   "outputs": [],
   "source": [],
   "metadata": {
    "collapsed": false,
    "pycharm": {
     "name": "#%%\n"
    }
   }
  }
 ],
 "metadata": {
  "kernelspec": {
   "display_name": "Python 3",
   "language": "python",
   "name": "python3"
  },
  "language_info": {
   "codemirror_mode": {
    "name": "ipython",
    "version": 2
   },
   "file_extension": ".py",
   "mimetype": "text/x-python",
   "name": "python",
   "nbconvert_exporter": "python",
   "pygments_lexer": "ipython2",
   "version": "2.7.6"
  }
 },
 "nbformat": 4,
 "nbformat_minor": 0
}