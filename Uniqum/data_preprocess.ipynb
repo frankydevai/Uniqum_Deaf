{
 "cells": [
  {
   "cell_type": "code",
   "execution_count": 1,
   "outputs": [],
   "source": [
    "import cv2\n",
    "import os\n",
    "import tensorflow as tf"
   ],
   "metadata": {
    "collapsed": false,
    "pycharm": {
     "name": "#%%\n"
    }
   }
  },
  {
   "cell_type": "code",
   "execution_count": 2,
   "outputs": [],
   "source": [
    "input_image = 'images'"
   ],
   "metadata": {
    "collapsed": false,
    "pycharm": {
     "name": "#%%\n"
    }
   }
  },
  {
   "cell_type": "code",
   "execution_count": 3,
   "outputs": [],
   "source": [
    "out = \"image_preprocess\""
   ],
   "metadata": {
    "collapsed": false,
    "pycharm": {
     "name": "#%%\n"
    }
   }
  },
  {
   "cell_type": "code",
   "execution_count": 3,
   "outputs": [],
   "source": [
    "def normalize_image(image):\n",
    "    image = tf.cast(image, tf.float32) # convert pixel values to floats\n",
    "    image /= 255.0 # rescale pixel values to be between 0 and 1\n",
    "    return image"
   ],
   "metadata": {
    "collapsed": false,
    "pycharm": {
     "name": "#%%\n"
    }
   }
  },
  {
   "cell_type": "code",
   "execution_count": 4,
   "outputs": [],
   "source": [
    " for filename in os.listdir(input_image):\n",
    "    if filename.endswith('.jpg') or filename.endswith('.png'):\n",
    "        filepath = os.path.join(input_image, filename)\n",
    "        image = tf.keras.preprocessing.image.load_img(filepath)\n",
    "        image_array = tf.keras.preprocessing.image.img_to_array(image)\n",
    "        normalized_image = normalize_image(image_array)\n",
    "        tf.keras.preprocessing.image.save_img(filepath, normalized_image)"
   ],
   "metadata": {
    "collapsed": false,
    "pycharm": {
     "name": "#%%\n"
    }
   }
  },
  {
   "cell_type": "code",
   "execution_count": null,
   "outputs": [],
   "source": [
    "import os\n",
    "import shutil\n",
    "import random\n",
    "\n",
    "# Set the path to the main folder containing subfolders with images\n",
    "main_folder_path = 'images'\n",
    "\n",
    "# Set the paths to the training and testing folders\n",
    "train_folder_path = 'train'\n",
    "test_folder_path = 'test'\n",
    "\n",
    "# Set the fraction of images to be used for testing\n",
    "test_fraction = 0.2\n",
    "\n",
    "# Create the training and testing folders\n",
    "os.makedirs(train_folder_path, exist_ok=True)\n",
    "os.makedirs(test_folder_path, exist_ok=True)\n",
    "\n",
    "# Loop through the subfolders in the main folder\n",
    "for folder_name in os.listdir(main_folder_path):\n",
    "    folder_path = os.path.join(main_folder_path, folder_name)\n",
    "    if os.path.isdir(folder_path):\n",
    "        # Create subfolders in the training and testing folders\n",
    "        train_subfolder_path = os.path.join(train_folder_path, folder_name)\n",
    "        test_subfolder_path = os.path.join(test_folder_path, folder_name)\n",
    "        os.makedirs(train_subfolder_path, exist_ok=True)\n",
    "        os.makedirs(test_subfolder_path, exist_ok=True)\n",
    "\n",
    "        # Get the list of image filenames in the subfolder\n",
    "        image_filenames = os.listdir(folder_path)\n",
    "\n",
    "        # Shuffle the image filenames\n",
    "        random.shuffle(image_filenames)\n",
    "\n",
    "        # Split the image filenames into training and testing sets\n",
    "        num_test_images = int(len(image_filenames) * test_fraction)\n",
    "        test_image_filenames = image_filenames[:num_test_images]\n",
    "        train_image_filenames = image_filenames[num_test_images:]\n",
    "\n",
    "        # Copy the training images to the training subfolder\n",
    "        for filename in train_image_filenames:\n",
    "            src_path = os.path.join(folder_path, filename)\n",
    "            dest_path = os.path.join(train_subfolder_path, filename)\n",
    "            shutil.copy(src_path, dest_path)\n",
    "\n",
    "        # Copy the testing images to the testing subfolder\n",
    "        for filename in test_image_filenames:\n",
    "            src_path = os.path.join(folder_path, filename)\n",
    "            dest_path = os.path.join(test_subfolder_path, filename)\n",
    "            shutil.copy(src_path, dest_path)"
   ],
   "metadata": {
    "collapsed": false,
    "pycharm": {
     "name": "#%%\n"
    }
   }
  },
  {
   "cell_type": "code",
   "execution_count": null,
   "outputs": [],
   "source": [],
   "metadata": {
    "collapsed": false,
    "pycharm": {
     "name": "#%%\n"
    }
   }
  }
 ],
 "metadata": {
  "kernelspec": {
   "display_name": "Python 3",
   "language": "python",
   "name": "python3"
  },
  "language_info": {
   "codemirror_mode": {
    "name": "ipython",
    "version": 2
   },
   "file_extension": ".py",
   "mimetype": "text/x-python",
   "name": "python",
   "nbconvert_exporter": "python",
   "pygments_lexer": "ipython2",
   "version": "2.7.6"
  }
 },
 "nbformat": 4,
 "nbformat_minor": 0
}